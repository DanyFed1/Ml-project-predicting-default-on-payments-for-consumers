{
 "cells": [
  {
   "cell_type": "markdown",
   "metadata": {},
   "source": [
    "## Data preparation"
   ]
  },
  {
   "cell_type": "code",
   "execution_count": 1,
   "metadata": {},
   "outputs": [],
   "source": [
    "#Importing the required packages for the assignment.\n",
    "import os\n",
    "import pandas as pd\n",
    "import numpy as np\n",
    "import matplotlib.pyplot as plt\n",
    "from sklearn.preprocessing import StandardScaler, MinMaxScaler\n",
    "import os\n",
    "import pandas as pd\n",
    "import numpy as np\n",
    "import matplotlib.pyplot as plt\n",
    "from sklearn.neighbors import KNeighborsClassifier\n",
    "from sklearn.svm import LinearSVC\n",
    "from sklearn.linear_model import LogisticRegression\n",
    "from sklearn.model_selection import GridSearchCV\n",
    "from sklearn.model_selection import train_test_split\n",
    "from sklearn.model_selection import cross_val_score\n",
    "from sklearn.pipeline import Pipeline\n",
    "from sklearn.pipeline import make_pipeline\n",
    "from sklearn.metrics import classification_report\n",
    "\n"
   ]
  },
  {
   "cell_type": "code",
   "execution_count": 2,
   "metadata": {},
   "outputs": [
    {
     "data": {
      "text/html": [
       "<div>\n",
       "<style scoped>\n",
       "    .dataframe tbody tr th:only-of-type {\n",
       "        vertical-align: middle;\n",
       "    }\n",
       "\n",
       "    .dataframe tbody tr th {\n",
       "        vertical-align: top;\n",
       "    }\n",
       "\n",
       "    .dataframe thead th {\n",
       "        text-align: right;\n",
       "    }\n",
       "</style>\n",
       "<table border=\"1\" class=\"dataframe\">\n",
       "  <thead>\n",
       "    <tr style=\"text-align: right;\">\n",
       "      <th></th>\n",
       "      <th>ID</th>\n",
       "      <th>LIMIT_BAL</th>\n",
       "      <th>SEX</th>\n",
       "      <th>EDUCATION</th>\n",
       "      <th>MARRIAGE</th>\n",
       "      <th>AGE</th>\n",
       "      <th>PAY_0</th>\n",
       "      <th>PAY_2</th>\n",
       "      <th>PAY_3</th>\n",
       "      <th>PAY_4</th>\n",
       "      <th>...</th>\n",
       "      <th>BILL_AMT4</th>\n",
       "      <th>BILL_AMT5</th>\n",
       "      <th>BILL_AMT6</th>\n",
       "      <th>PAY_AMT1</th>\n",
       "      <th>PAY_AMT2</th>\n",
       "      <th>PAY_AMT3</th>\n",
       "      <th>PAY_AMT4</th>\n",
       "      <th>PAY_AMT5</th>\n",
       "      <th>PAY_AMT6</th>\n",
       "      <th>default payment next month</th>\n",
       "    </tr>\n",
       "  </thead>\n",
       "  <tbody>\n",
       "    <tr>\n",
       "      <th>0</th>\n",
       "      <td>1</td>\n",
       "      <td>20000</td>\n",
       "      <td>2</td>\n",
       "      <td>2</td>\n",
       "      <td>1</td>\n",
       "      <td>24</td>\n",
       "      <td>2</td>\n",
       "      <td>2</td>\n",
       "      <td>-1</td>\n",
       "      <td>-1</td>\n",
       "      <td>...</td>\n",
       "      <td>0</td>\n",
       "      <td>0</td>\n",
       "      <td>0</td>\n",
       "      <td>0</td>\n",
       "      <td>689</td>\n",
       "      <td>0</td>\n",
       "      <td>0</td>\n",
       "      <td>0</td>\n",
       "      <td>0</td>\n",
       "      <td>1</td>\n",
       "    </tr>\n",
       "    <tr>\n",
       "      <th>1</th>\n",
       "      <td>2</td>\n",
       "      <td>120000</td>\n",
       "      <td>2</td>\n",
       "      <td>2</td>\n",
       "      <td>2</td>\n",
       "      <td>26</td>\n",
       "      <td>-1</td>\n",
       "      <td>2</td>\n",
       "      <td>0</td>\n",
       "      <td>0</td>\n",
       "      <td>...</td>\n",
       "      <td>3272</td>\n",
       "      <td>3455</td>\n",
       "      <td>3261</td>\n",
       "      <td>0</td>\n",
       "      <td>1000</td>\n",
       "      <td>1000</td>\n",
       "      <td>1000</td>\n",
       "      <td>0</td>\n",
       "      <td>2000</td>\n",
       "      <td>1</td>\n",
       "    </tr>\n",
       "    <tr>\n",
       "      <th>2</th>\n",
       "      <td>3</td>\n",
       "      <td>90000</td>\n",
       "      <td>2</td>\n",
       "      <td>2</td>\n",
       "      <td>2</td>\n",
       "      <td>34</td>\n",
       "      <td>0</td>\n",
       "      <td>0</td>\n",
       "      <td>0</td>\n",
       "      <td>0</td>\n",
       "      <td>...</td>\n",
       "      <td>14331</td>\n",
       "      <td>14948</td>\n",
       "      <td>15549</td>\n",
       "      <td>1518</td>\n",
       "      <td>1500</td>\n",
       "      <td>1000</td>\n",
       "      <td>1000</td>\n",
       "      <td>1000</td>\n",
       "      <td>5000</td>\n",
       "      <td>0</td>\n",
       "    </tr>\n",
       "    <tr>\n",
       "      <th>3</th>\n",
       "      <td>4</td>\n",
       "      <td>50000</td>\n",
       "      <td>2</td>\n",
       "      <td>2</td>\n",
       "      <td>1</td>\n",
       "      <td>37</td>\n",
       "      <td>0</td>\n",
       "      <td>0</td>\n",
       "      <td>0</td>\n",
       "      <td>0</td>\n",
       "      <td>...</td>\n",
       "      <td>28314</td>\n",
       "      <td>28959</td>\n",
       "      <td>29547</td>\n",
       "      <td>2000</td>\n",
       "      <td>2019</td>\n",
       "      <td>1200</td>\n",
       "      <td>1100</td>\n",
       "      <td>1069</td>\n",
       "      <td>1000</td>\n",
       "      <td>0</td>\n",
       "    </tr>\n",
       "    <tr>\n",
       "      <th>4</th>\n",
       "      <td>5</td>\n",
       "      <td>50000</td>\n",
       "      <td>1</td>\n",
       "      <td>2</td>\n",
       "      <td>1</td>\n",
       "      <td>57</td>\n",
       "      <td>-1</td>\n",
       "      <td>0</td>\n",
       "      <td>-1</td>\n",
       "      <td>0</td>\n",
       "      <td>...</td>\n",
       "      <td>20940</td>\n",
       "      <td>19146</td>\n",
       "      <td>19131</td>\n",
       "      <td>2000</td>\n",
       "      <td>36681</td>\n",
       "      <td>10000</td>\n",
       "      <td>9000</td>\n",
       "      <td>689</td>\n",
       "      <td>679</td>\n",
       "      <td>0</td>\n",
       "    </tr>\n",
       "    <tr>\n",
       "      <th>...</th>\n",
       "      <td>...</td>\n",
       "      <td>...</td>\n",
       "      <td>...</td>\n",
       "      <td>...</td>\n",
       "      <td>...</td>\n",
       "      <td>...</td>\n",
       "      <td>...</td>\n",
       "      <td>...</td>\n",
       "      <td>...</td>\n",
       "      <td>...</td>\n",
       "      <td>...</td>\n",
       "      <td>...</td>\n",
       "      <td>...</td>\n",
       "      <td>...</td>\n",
       "      <td>...</td>\n",
       "      <td>...</td>\n",
       "      <td>...</td>\n",
       "      <td>...</td>\n",
       "      <td>...</td>\n",
       "      <td>...</td>\n",
       "      <td>...</td>\n",
       "    </tr>\n",
       "    <tr>\n",
       "      <th>29995</th>\n",
       "      <td>29996</td>\n",
       "      <td>220000</td>\n",
       "      <td>1</td>\n",
       "      <td>3</td>\n",
       "      <td>1</td>\n",
       "      <td>39</td>\n",
       "      <td>0</td>\n",
       "      <td>0</td>\n",
       "      <td>0</td>\n",
       "      <td>0</td>\n",
       "      <td>...</td>\n",
       "      <td>88004</td>\n",
       "      <td>31237</td>\n",
       "      <td>15980</td>\n",
       "      <td>8500</td>\n",
       "      <td>20000</td>\n",
       "      <td>5003</td>\n",
       "      <td>3047</td>\n",
       "      <td>5000</td>\n",
       "      <td>1000</td>\n",
       "      <td>0</td>\n",
       "    </tr>\n",
       "    <tr>\n",
       "      <th>29996</th>\n",
       "      <td>29997</td>\n",
       "      <td>150000</td>\n",
       "      <td>1</td>\n",
       "      <td>3</td>\n",
       "      <td>2</td>\n",
       "      <td>43</td>\n",
       "      <td>-1</td>\n",
       "      <td>-1</td>\n",
       "      <td>-1</td>\n",
       "      <td>-1</td>\n",
       "      <td>...</td>\n",
       "      <td>8979</td>\n",
       "      <td>5190</td>\n",
       "      <td>0</td>\n",
       "      <td>1837</td>\n",
       "      <td>3526</td>\n",
       "      <td>8998</td>\n",
       "      <td>129</td>\n",
       "      <td>0</td>\n",
       "      <td>0</td>\n",
       "      <td>0</td>\n",
       "    </tr>\n",
       "    <tr>\n",
       "      <th>29997</th>\n",
       "      <td>29998</td>\n",
       "      <td>30000</td>\n",
       "      <td>1</td>\n",
       "      <td>2</td>\n",
       "      <td>2</td>\n",
       "      <td>37</td>\n",
       "      <td>4</td>\n",
       "      <td>3</td>\n",
       "      <td>2</td>\n",
       "      <td>-1</td>\n",
       "      <td>...</td>\n",
       "      <td>20878</td>\n",
       "      <td>20582</td>\n",
       "      <td>19357</td>\n",
       "      <td>0</td>\n",
       "      <td>0</td>\n",
       "      <td>22000</td>\n",
       "      <td>4200</td>\n",
       "      <td>2000</td>\n",
       "      <td>3100</td>\n",
       "      <td>1</td>\n",
       "    </tr>\n",
       "    <tr>\n",
       "      <th>29998</th>\n",
       "      <td>29999</td>\n",
       "      <td>80000</td>\n",
       "      <td>1</td>\n",
       "      <td>3</td>\n",
       "      <td>1</td>\n",
       "      <td>41</td>\n",
       "      <td>1</td>\n",
       "      <td>-1</td>\n",
       "      <td>0</td>\n",
       "      <td>0</td>\n",
       "      <td>...</td>\n",
       "      <td>52774</td>\n",
       "      <td>11855</td>\n",
       "      <td>48944</td>\n",
       "      <td>85900</td>\n",
       "      <td>3409</td>\n",
       "      <td>1178</td>\n",
       "      <td>1926</td>\n",
       "      <td>52964</td>\n",
       "      <td>1804</td>\n",
       "      <td>1</td>\n",
       "    </tr>\n",
       "    <tr>\n",
       "      <th>29999</th>\n",
       "      <td>30000</td>\n",
       "      <td>50000</td>\n",
       "      <td>1</td>\n",
       "      <td>2</td>\n",
       "      <td>1</td>\n",
       "      <td>46</td>\n",
       "      <td>0</td>\n",
       "      <td>0</td>\n",
       "      <td>0</td>\n",
       "      <td>0</td>\n",
       "      <td>...</td>\n",
       "      <td>36535</td>\n",
       "      <td>32428</td>\n",
       "      <td>15313</td>\n",
       "      <td>2078</td>\n",
       "      <td>1800</td>\n",
       "      <td>1430</td>\n",
       "      <td>1000</td>\n",
       "      <td>1000</td>\n",
       "      <td>1000</td>\n",
       "      <td>1</td>\n",
       "    </tr>\n",
       "  </tbody>\n",
       "</table>\n",
       "<p>30000 rows × 25 columns</p>\n",
       "</div>"
      ],
      "text/plain": [
       "          ID  LIMIT_BAL  SEX  EDUCATION  MARRIAGE  AGE  PAY_0  PAY_2  PAY_3  \\\n",
       "0          1      20000    2          2         1   24      2      2     -1   \n",
       "1          2     120000    2          2         2   26     -1      2      0   \n",
       "2          3      90000    2          2         2   34      0      0      0   \n",
       "3          4      50000    2          2         1   37      0      0      0   \n",
       "4          5      50000    1          2         1   57     -1      0     -1   \n",
       "...      ...        ...  ...        ...       ...  ...    ...    ...    ...   \n",
       "29995  29996     220000    1          3         1   39      0      0      0   \n",
       "29996  29997     150000    1          3         2   43     -1     -1     -1   \n",
       "29997  29998      30000    1          2         2   37      4      3      2   \n",
       "29998  29999      80000    1          3         1   41      1     -1      0   \n",
       "29999  30000      50000    1          2         1   46      0      0      0   \n",
       "\n",
       "       PAY_4  ...  BILL_AMT4  BILL_AMT5  BILL_AMT6  PAY_AMT1  PAY_AMT2  \\\n",
       "0         -1  ...          0          0          0         0       689   \n",
       "1          0  ...       3272       3455       3261         0      1000   \n",
       "2          0  ...      14331      14948      15549      1518      1500   \n",
       "3          0  ...      28314      28959      29547      2000      2019   \n",
       "4          0  ...      20940      19146      19131      2000     36681   \n",
       "...      ...  ...        ...        ...        ...       ...       ...   \n",
       "29995      0  ...      88004      31237      15980      8500     20000   \n",
       "29996     -1  ...       8979       5190          0      1837      3526   \n",
       "29997     -1  ...      20878      20582      19357         0         0   \n",
       "29998      0  ...      52774      11855      48944     85900      3409   \n",
       "29999      0  ...      36535      32428      15313      2078      1800   \n",
       "\n",
       "       PAY_AMT3  PAY_AMT4  PAY_AMT5  PAY_AMT6  default payment next month  \n",
       "0             0         0         0         0                           1  \n",
       "1          1000      1000         0      2000                           1  \n",
       "2          1000      1000      1000      5000                           0  \n",
       "3          1200      1100      1069      1000                           0  \n",
       "4         10000      9000       689       679                           0  \n",
       "...         ...       ...       ...       ...                         ...  \n",
       "29995      5003      3047      5000      1000                           0  \n",
       "29996      8998       129         0         0                           0  \n",
       "29997     22000      4200      2000      3100                           1  \n",
       "29998      1178      1926     52964      1804                           1  \n",
       "29999      1430      1000      1000      1000                           1  \n",
       "\n",
       "[30000 rows x 25 columns]"
      ]
     },
     "execution_count": 2,
     "metadata": {},
     "output_type": "execute_result"
    }
   ],
   "source": [
    "#we load and store the dataset, row at index 1 contains the features names\n",
    "data_2 = pd.read_csv(\"data.csv\", header=1)\n",
    "data = pd.DataFrame(data_2)\n",
    "data"
   ]
  },
  {
   "cell_type": "markdown",
   "metadata": {},
   "source": [
    "We further inspect the dataset to get a better idea about the feature nature and its distirbution. "
   ]
  },
  {
   "cell_type": "code",
   "execution_count": 3,
   "metadata": {},
   "outputs": [
    {
     "name": "stdout",
     "output_type": "stream",
     "text": [
      "<class 'pandas.core.frame.DataFrame'>\n",
      "RangeIndex: 30000 entries, 0 to 29999\n",
      "Data columns (total 25 columns):\n",
      " #   Column                      Non-Null Count  Dtype\n",
      "---  ------                      --------------  -----\n",
      " 0   ID                          30000 non-null  int64\n",
      " 1   LIMIT_BAL                   30000 non-null  int64\n",
      " 2   SEX                         30000 non-null  int64\n",
      " 3   EDUCATION                   30000 non-null  int64\n",
      " 4   MARRIAGE                    30000 non-null  int64\n",
      " 5   AGE                         30000 non-null  int64\n",
      " 6   PAY_0                       30000 non-null  int64\n",
      " 7   PAY_2                       30000 non-null  int64\n",
      " 8   PAY_3                       30000 non-null  int64\n",
      " 9   PAY_4                       30000 non-null  int64\n",
      " 10  PAY_5                       30000 non-null  int64\n",
      " 11  PAY_6                       30000 non-null  int64\n",
      " 12  BILL_AMT1                   30000 non-null  int64\n",
      " 13  BILL_AMT2                   30000 non-null  int64\n",
      " 14  BILL_AMT3                   30000 non-null  int64\n",
      " 15  BILL_AMT4                   30000 non-null  int64\n",
      " 16  BILL_AMT5                   30000 non-null  int64\n",
      " 17  BILL_AMT6                   30000 non-null  int64\n",
      " 18  PAY_AMT1                    30000 non-null  int64\n",
      " 19  PAY_AMT2                    30000 non-null  int64\n",
      " 20  PAY_AMT3                    30000 non-null  int64\n",
      " 21  PAY_AMT4                    30000 non-null  int64\n",
      " 22  PAY_AMT5                    30000 non-null  int64\n",
      " 23  PAY_AMT6                    30000 non-null  int64\n",
      " 24  default payment next month  30000 non-null  int64\n",
      "dtypes: int64(25)\n",
      "memory usage: 5.7 MB\n"
     ]
    }
   ],
   "source": [
    "data.info()"
   ]
  },
  {
   "cell_type": "code",
   "execution_count": 4,
   "metadata": {
    "scrolled": false
   },
   "outputs": [
    {
     "data": {
      "text/html": [
       "<div>\n",
       "<style scoped>\n",
       "    .dataframe tbody tr th:only-of-type {\n",
       "        vertical-align: middle;\n",
       "    }\n",
       "\n",
       "    .dataframe tbody tr th {\n",
       "        vertical-align: top;\n",
       "    }\n",
       "\n",
       "    .dataframe thead th {\n",
       "        text-align: right;\n",
       "    }\n",
       "</style>\n",
       "<table border=\"1\" class=\"dataframe\">\n",
       "  <thead>\n",
       "    <tr style=\"text-align: right;\">\n",
       "      <th></th>\n",
       "      <th>count</th>\n",
       "      <th>mean</th>\n",
       "      <th>std</th>\n",
       "      <th>min</th>\n",
       "      <th>max</th>\n",
       "    </tr>\n",
       "  </thead>\n",
       "  <tbody>\n",
       "    <tr>\n",
       "      <th>ID</th>\n",
       "      <td>30000.0</td>\n",
       "      <td>15000.500000</td>\n",
       "      <td>8660.398374</td>\n",
       "      <td>1.0</td>\n",
       "      <td>30000.0</td>\n",
       "    </tr>\n",
       "    <tr>\n",
       "      <th>LIMIT_BAL</th>\n",
       "      <td>30000.0</td>\n",
       "      <td>167484.322667</td>\n",
       "      <td>129747.661567</td>\n",
       "      <td>10000.0</td>\n",
       "      <td>1000000.0</td>\n",
       "    </tr>\n",
       "    <tr>\n",
       "      <th>SEX</th>\n",
       "      <td>30000.0</td>\n",
       "      <td>1.603733</td>\n",
       "      <td>0.489129</td>\n",
       "      <td>1.0</td>\n",
       "      <td>2.0</td>\n",
       "    </tr>\n",
       "    <tr>\n",
       "      <th>EDUCATION</th>\n",
       "      <td>30000.0</td>\n",
       "      <td>1.853133</td>\n",
       "      <td>0.790349</td>\n",
       "      <td>0.0</td>\n",
       "      <td>6.0</td>\n",
       "    </tr>\n",
       "    <tr>\n",
       "      <th>MARRIAGE</th>\n",
       "      <td>30000.0</td>\n",
       "      <td>1.551867</td>\n",
       "      <td>0.521970</td>\n",
       "      <td>0.0</td>\n",
       "      <td>3.0</td>\n",
       "    </tr>\n",
       "    <tr>\n",
       "      <th>AGE</th>\n",
       "      <td>30000.0</td>\n",
       "      <td>35.485500</td>\n",
       "      <td>9.217904</td>\n",
       "      <td>21.0</td>\n",
       "      <td>79.0</td>\n",
       "    </tr>\n",
       "    <tr>\n",
       "      <th>PAY_0</th>\n",
       "      <td>30000.0</td>\n",
       "      <td>-0.016700</td>\n",
       "      <td>1.123802</td>\n",
       "      <td>-2.0</td>\n",
       "      <td>8.0</td>\n",
       "    </tr>\n",
       "    <tr>\n",
       "      <th>PAY_2</th>\n",
       "      <td>30000.0</td>\n",
       "      <td>-0.133767</td>\n",
       "      <td>1.197186</td>\n",
       "      <td>-2.0</td>\n",
       "      <td>8.0</td>\n",
       "    </tr>\n",
       "    <tr>\n",
       "      <th>PAY_3</th>\n",
       "      <td>30000.0</td>\n",
       "      <td>-0.166200</td>\n",
       "      <td>1.196868</td>\n",
       "      <td>-2.0</td>\n",
       "      <td>8.0</td>\n",
       "    </tr>\n",
       "    <tr>\n",
       "      <th>PAY_4</th>\n",
       "      <td>30000.0</td>\n",
       "      <td>-0.220667</td>\n",
       "      <td>1.169139</td>\n",
       "      <td>-2.0</td>\n",
       "      <td>8.0</td>\n",
       "    </tr>\n",
       "    <tr>\n",
       "      <th>PAY_5</th>\n",
       "      <td>30000.0</td>\n",
       "      <td>-0.266200</td>\n",
       "      <td>1.133187</td>\n",
       "      <td>-2.0</td>\n",
       "      <td>8.0</td>\n",
       "    </tr>\n",
       "    <tr>\n",
       "      <th>PAY_6</th>\n",
       "      <td>30000.0</td>\n",
       "      <td>-0.291100</td>\n",
       "      <td>1.149988</td>\n",
       "      <td>-2.0</td>\n",
       "      <td>8.0</td>\n",
       "    </tr>\n",
       "    <tr>\n",
       "      <th>BILL_AMT1</th>\n",
       "      <td>30000.0</td>\n",
       "      <td>51223.330900</td>\n",
       "      <td>73635.860576</td>\n",
       "      <td>-165580.0</td>\n",
       "      <td>964511.0</td>\n",
       "    </tr>\n",
       "    <tr>\n",
       "      <th>BILL_AMT2</th>\n",
       "      <td>30000.0</td>\n",
       "      <td>49179.075167</td>\n",
       "      <td>71173.768783</td>\n",
       "      <td>-69777.0</td>\n",
       "      <td>983931.0</td>\n",
       "    </tr>\n",
       "    <tr>\n",
       "      <th>BILL_AMT3</th>\n",
       "      <td>30000.0</td>\n",
       "      <td>47013.154800</td>\n",
       "      <td>69349.387427</td>\n",
       "      <td>-157264.0</td>\n",
       "      <td>1664089.0</td>\n",
       "    </tr>\n",
       "    <tr>\n",
       "      <th>BILL_AMT4</th>\n",
       "      <td>30000.0</td>\n",
       "      <td>43262.948967</td>\n",
       "      <td>64332.856134</td>\n",
       "      <td>-170000.0</td>\n",
       "      <td>891586.0</td>\n",
       "    </tr>\n",
       "    <tr>\n",
       "      <th>BILL_AMT5</th>\n",
       "      <td>30000.0</td>\n",
       "      <td>40311.400967</td>\n",
       "      <td>60797.155770</td>\n",
       "      <td>-81334.0</td>\n",
       "      <td>927171.0</td>\n",
       "    </tr>\n",
       "    <tr>\n",
       "      <th>BILL_AMT6</th>\n",
       "      <td>30000.0</td>\n",
       "      <td>38871.760400</td>\n",
       "      <td>59554.107537</td>\n",
       "      <td>-339603.0</td>\n",
       "      <td>961664.0</td>\n",
       "    </tr>\n",
       "    <tr>\n",
       "      <th>PAY_AMT1</th>\n",
       "      <td>30000.0</td>\n",
       "      <td>5663.580500</td>\n",
       "      <td>16563.280354</td>\n",
       "      <td>0.0</td>\n",
       "      <td>873552.0</td>\n",
       "    </tr>\n",
       "    <tr>\n",
       "      <th>PAY_AMT2</th>\n",
       "      <td>30000.0</td>\n",
       "      <td>5921.163500</td>\n",
       "      <td>23040.870402</td>\n",
       "      <td>0.0</td>\n",
       "      <td>1684259.0</td>\n",
       "    </tr>\n",
       "    <tr>\n",
       "      <th>PAY_AMT3</th>\n",
       "      <td>30000.0</td>\n",
       "      <td>5225.681500</td>\n",
       "      <td>17606.961470</td>\n",
       "      <td>0.0</td>\n",
       "      <td>896040.0</td>\n",
       "    </tr>\n",
       "    <tr>\n",
       "      <th>PAY_AMT4</th>\n",
       "      <td>30000.0</td>\n",
       "      <td>4826.076867</td>\n",
       "      <td>15666.159744</td>\n",
       "      <td>0.0</td>\n",
       "      <td>621000.0</td>\n",
       "    </tr>\n",
       "    <tr>\n",
       "      <th>PAY_AMT5</th>\n",
       "      <td>30000.0</td>\n",
       "      <td>4799.387633</td>\n",
       "      <td>15278.305679</td>\n",
       "      <td>0.0</td>\n",
       "      <td>426529.0</td>\n",
       "    </tr>\n",
       "    <tr>\n",
       "      <th>PAY_AMT6</th>\n",
       "      <td>30000.0</td>\n",
       "      <td>5215.502567</td>\n",
       "      <td>17777.465775</td>\n",
       "      <td>0.0</td>\n",
       "      <td>528666.0</td>\n",
       "    </tr>\n",
       "    <tr>\n",
       "      <th>default payment next month</th>\n",
       "      <td>30000.0</td>\n",
       "      <td>0.221200</td>\n",
       "      <td>0.415062</td>\n",
       "      <td>0.0</td>\n",
       "      <td>1.0</td>\n",
       "    </tr>\n",
       "  </tbody>\n",
       "</table>\n",
       "</div>"
      ],
      "text/plain": [
       "                              count           mean            std       min  \\\n",
       "ID                          30000.0   15000.500000    8660.398374       1.0   \n",
       "LIMIT_BAL                   30000.0  167484.322667  129747.661567   10000.0   \n",
       "SEX                         30000.0       1.603733       0.489129       1.0   \n",
       "EDUCATION                   30000.0       1.853133       0.790349       0.0   \n",
       "MARRIAGE                    30000.0       1.551867       0.521970       0.0   \n",
       "AGE                         30000.0      35.485500       9.217904      21.0   \n",
       "PAY_0                       30000.0      -0.016700       1.123802      -2.0   \n",
       "PAY_2                       30000.0      -0.133767       1.197186      -2.0   \n",
       "PAY_3                       30000.0      -0.166200       1.196868      -2.0   \n",
       "PAY_4                       30000.0      -0.220667       1.169139      -2.0   \n",
       "PAY_5                       30000.0      -0.266200       1.133187      -2.0   \n",
       "PAY_6                       30000.0      -0.291100       1.149988      -2.0   \n",
       "BILL_AMT1                   30000.0   51223.330900   73635.860576 -165580.0   \n",
       "BILL_AMT2                   30000.0   49179.075167   71173.768783  -69777.0   \n",
       "BILL_AMT3                   30000.0   47013.154800   69349.387427 -157264.0   \n",
       "BILL_AMT4                   30000.0   43262.948967   64332.856134 -170000.0   \n",
       "BILL_AMT5                   30000.0   40311.400967   60797.155770  -81334.0   \n",
       "BILL_AMT6                   30000.0   38871.760400   59554.107537 -339603.0   \n",
       "PAY_AMT1                    30000.0    5663.580500   16563.280354       0.0   \n",
       "PAY_AMT2                    30000.0    5921.163500   23040.870402       0.0   \n",
       "PAY_AMT3                    30000.0    5225.681500   17606.961470       0.0   \n",
       "PAY_AMT4                    30000.0    4826.076867   15666.159744       0.0   \n",
       "PAY_AMT5                    30000.0    4799.387633   15278.305679       0.0   \n",
       "PAY_AMT6                    30000.0    5215.502567   17777.465775       0.0   \n",
       "default payment next month  30000.0       0.221200       0.415062       0.0   \n",
       "\n",
       "                                  max  \n",
       "ID                            30000.0  \n",
       "LIMIT_BAL                   1000000.0  \n",
       "SEX                               2.0  \n",
       "EDUCATION                         6.0  \n",
       "MARRIAGE                          3.0  \n",
       "AGE                              79.0  \n",
       "PAY_0                             8.0  \n",
       "PAY_2                             8.0  \n",
       "PAY_3                             8.0  \n",
       "PAY_4                             8.0  \n",
       "PAY_5                             8.0  \n",
       "PAY_6                             8.0  \n",
       "BILL_AMT1                    964511.0  \n",
       "BILL_AMT2                    983931.0  \n",
       "BILL_AMT3                   1664089.0  \n",
       "BILL_AMT4                    891586.0  \n",
       "BILL_AMT5                    927171.0  \n",
       "BILL_AMT6                    961664.0  \n",
       "PAY_AMT1                     873552.0  \n",
       "PAY_AMT2                    1684259.0  \n",
       "PAY_AMT3                     896040.0  \n",
       "PAY_AMT4                     621000.0  \n",
       "PAY_AMT5                     426529.0  \n",
       "PAY_AMT6                     528666.0  \n",
       "default payment next month        1.0  "
      ]
     },
     "execution_count": 4,
     "metadata": {},
     "output_type": "execute_result"
    }
   ],
   "source": [
    "data.describe().T[['count', 'mean', 'std', 'min', 'max']]"
   ]
  },
  {
   "cell_type": "markdown",
   "metadata": {},
   "source": [
    "Overall, we observe 23 predictive features (ID is excluded from count as it does not contain valuable information) and a binary predictive feature - default payment next month."
   ]
  },
  {
   "cell_type": "markdown",
   "metadata": {},
   "source": [
    "### Dataset inspection discussion:\n",
    "LIMIT_BAL - really large std indicates possible extreme credit values. \n",
    "\n",
    "EDUCATION - number of categories does not match the description of the dataset (7 categories present instead of 4). Assumption 1 - Data could be incorrectly recorded. Assumption 2 - The order is mistreated (e.g. start from 0 and end with 6, meaning additional categories were added). The problem is that data is imbalanced with these categories, e.g. category 0 is represented only with 14 observations. We will assume that the new categories were introduced as an extension of category other, and hence we will not perform additional transformations.\n",
    "\n",
    "Marriage - same problems as for education, additional category 0 is present with just 54 observations, perhaps 0 represents missing values. We proceed with the same assumption as for education.\n",
    "\n",
    "PAY_0 - PAY_6: Overall, we can see that data observations do not match the description of the dataset fully, this pattern seems fundamental for the overall dataset, and we will assume that those were mandatory transformations and hence will not manipulate the features for this assignment assuming that these transformations do not change the theoretical relationship between features and the target variable.\n",
    "\n",
    "Overall inspection of the dataset reveals that data is significantly imbalanced. The skewness of distributions can be noted from the observation of the means and std values. Furthermore, the appearance of the dataset differs from the available description in the .txt file. For this assignment, we will assume that these new manipulations were done intentionally. Default rates, in general, are pretty high for this dataset, which could be potentially explained by the historical setting with a financial crisis in 2007."
   ]
  },
  {
   "cell_type": "markdown",
   "metadata": {},
   "source": [
    "### Creating dummies for further analysis"
   ]
  },
  {
   "cell_type": "markdown",
   "metadata": {},
   "source": [
    "To proceed with the classification assignment we would need to transform categorical data into dummies variables with number of dummy variables per dimension = number of categories within the feature. Dummy variables are created using the pandas function 'pd.get_dummies' for the categorical variables of the dataset.\n",
    "We store this new dataset with dummy created in a new variable."
   ]
  },
  {
   "cell_type": "code",
   "execution_count": 5,
   "metadata": {},
   "outputs": [],
   "source": [
    "data_1 = pd.get_dummies(data, columns=['SEX','EDUCATION','MARRIAGE'])\n"
   ]
  },
  {
   "cell_type": "markdown",
   "metadata": {},
   "source": [
    "We extract the target variable - 'default payment next month' from the dataset and assign it to the test_variable object. \n",
    "We drop the ' ID ' feature from the target_variables that we will use in our model as it does not convey any information on the target variable."
   ]
  },
  {
   "cell_type": "code",
   "execution_count": 6,
   "metadata": {},
   "outputs": [
    {
     "data": {
      "text/plain": [
       "Index(['LIMIT_BAL', 'AGE', 'PAY_0', 'PAY_2', 'PAY_3', 'PAY_4', 'PAY_5',\n",
       "       'PAY_6', 'BILL_AMT1', 'BILL_AMT2', 'BILL_AMT3', 'BILL_AMT4',\n",
       "       'BILL_AMT5', 'BILL_AMT6', 'PAY_AMT1', 'PAY_AMT2', 'PAY_AMT3',\n",
       "       'PAY_AMT4', 'PAY_AMT5', 'PAY_AMT6', 'SEX_1', 'SEX_2', 'EDUCATION_0',\n",
       "       'EDUCATION_1', 'EDUCATION_2', 'EDUCATION_3', 'EDUCATION_4',\n",
       "       'EDUCATION_5', 'EDUCATION_6', 'MARRIAGE_0', 'MARRIAGE_1', 'MARRIAGE_2',\n",
       "       'MARRIAGE_3'],\n",
       "      dtype='object')"
      ]
     },
     "execution_count": 6,
     "metadata": {},
     "output_type": "execute_result"
    }
   ],
   "source": [
    "#data without column ID\n",
    "test_variable = data_1['default payment next month'].tolist()\n",
    "target_variables = data_1.drop(columns=['default payment next month', 'ID'])\n",
    "target_variables.columns\n"
   ]
  },
  {
   "cell_type": "markdown",
   "metadata": {},
   "source": [
    "### Models - Features scaling"
   ]
  },
  {
   "cell_type": "markdown",
   "metadata": {},
   "source": [
    "### KNNClassifier"
   ]
  },
  {
   "cell_type": "code",
   "execution_count": 7,
   "metadata": {},
   "outputs": [],
   "source": [
    "X_train, X_test, y_train, y_test = train_test_split(target_variables, test_variable, random_state=0)"
   ]
  },
  {
   "cell_type": "markdown",
   "metadata": {},
   "source": [
    "We need separate the training and test sets to evaluate the supervised model we will build after the preprocessing."
   ]
  },
  {
   "cell_type": "markdown",
   "metadata": {},
   "source": [
    "#### StandardScaler"
   ]
  },
  {
   "cell_type": "markdown",
   "metadata": {},
   "source": [
    "The StandardScaler ensures that for each feature the mean is 0 and the variance is 1.\n",
    "The scaler is fit on the training data.\n",
    "To scale the training data, we use the transform method of the scaler."
   ]
  },
  {
   "cell_type": "markdown",
   "metadata": {},
   "source": [
    "To apply the KNN Classifier, we also need to transform the test set, calling the transform method on it.\n"
   ]
  },
  {
   "cell_type": "markdown",
   "metadata": {},
   "source": [
    "We use GridSearchCV to find an optimal value for the “number of neighbors” n neighbors.\n"
   ]
  },
  {
   "cell_type": "markdown",
   "metadata": {},
   "source": [
    "For Knn GridSearch_CV hyperparameter tuning, we set up the following parameters for an optimum number of neighbours searches: (1, 30, 4). This yielded the highest accuracy after repeated experiments of 0.1595 The number of neighbours the GridSearch produced is 29.\n",
    "CV = 5 was chosen as higher CV did not change search results (runtime optimization)."
   ]
  },
  {
   "cell_type": "code",
   "execution_count": 8,
   "metadata": {},
   "outputs": [
    {
     "name": "stdout",
     "output_type": "stream",
     "text": [
      "{'clf__n_neighbors': 29}\n",
      "0.806\n"
     ]
    }
   ],
   "source": [
    "#Pipeline for KNNClassifier using StandardScaler()\n",
    "\n",
    "knn_pipe_ss = Pipeline([\n",
    "    ('StandardScaler', StandardScaler()),\n",
    "    ('clf', KNeighborsClassifier())])\n",
    "param_grid_ss = {'clf__n_neighbors': range(1, 30, 4)}\n",
    "grid_knn_ss = GridSearchCV(knn_pipe_ss, param_grid_ss, cv=5)\n",
    "\n",
    "grid_knn_ss.fit(X_train, y_train)\n",
    "print(grid_knn_ss.best_params_)\n",
    "print(grid_knn_ss.score(X_test, y_test))\n",
    "y_pred = grid_knn_ss.predict(X_test)\n",
    "\n"
   ]
  },
  {
   "cell_type": "markdown",
   "metadata": {},
   "source": [
    "We noticed that for the scaled data, the accuracy is 0.806 and the selected number of neighbours is 29."
   ]
  },
  {
   "cell_type": "code",
   "execution_count": 9,
   "metadata": {},
   "outputs": [
    {
     "data": {
      "text/plain": [
       "<matplotlib.legend.Legend at 0x7f86a4474790>"
      ]
     },
     "execution_count": 9,
     "metadata": {},
     "output_type": "execute_result"
    },
    {
     "data": {
      "image/png": "[encoded data removed]",
      "text/plain": [
       "<Figure size 432x288 with 1 Axes>"
      ]
     },
     "metadata": {
      "needs_background": "light"
     },
     "output_type": "display_data"
    }
   ],
   "source": [
    "#Visualising n change impact\n",
    "scores = pd.DataFrame(grid_knn_ss.cv_results_)\n",
    "scores\n",
    "scores.plot(x='param_clf__n_neighbors', y=['mean_test_score'], ax=plt.gca())\n",
    "plt.legend(loc=(1, 0))"
   ]
  },
  {
   "cell_type": "markdown",
   "metadata": {},
   "source": [
    "From this graph we can see that after around 13 neigbours the model performance doesn't improve too much. Grid search indicated that the value of 29 neigbours is the optimal value for best model performance. We also tested grid search with a range above 50, but the optimal was still 29. We can assume that after 29 the model performance will drop with more neihbours as the model may start overfitting."
   ]
  },
  {
   "cell_type": "code",
   "execution_count": 10,
   "metadata": {},
   "outputs": [
    {
     "name": "stdout",
     "output_type": "stream",
     "text": [
      "              precision    recall  f1-score   support\n",
      "\n",
      "           0   0.822729  0.958589  0.885478      5868\n",
      "           1   0.633484  0.257353  0.366013      1632\n",
      "\n",
      "    accuracy                       0.806000      7500\n",
      "   macro avg   0.728107  0.607971  0.625746      7500\n",
      "weighted avg   0.781550  0.806000  0.772443      7500\n",
      "\n"
     ]
    }
   ],
   "source": [
    "print(classification_report(y_test, y_pred, labels=[0, 1], digits=6))"
   ]
  },
  {
   "cell_type": "markdown",
   "metadata": {},
   "source": [
    "As specified in the description, the values refer to Default = 1, No default = 0.\n",
    "For StandardScaler, we notice that precision, recall, f1-score have very high performance when it comes to predicting non-default customers. This cannot be said regarding the prediction on defaulted customers, where the performance of the model is very low. This is due to the unbalance of the data, as confirmed by the support (indicating many data points relate to non-default rather than default).\n",
    "\n",
    "The accuracy is the number of correct predictions (TP and TN) divided by the number of all samples. The value of 0.806 looks relatively high meaning that the KNN performs well in predicting whether the customer defaulted or not. This will have to be compared to the scaled data using MinMax and unscaled data.\n",
    "\n",
    "Macro average returns the average without considering the proportion for each label in the dataset. Weighted average returns the average considering the proportion for each label in the dataset."
   ]
  },
  {
   "cell_type": "code",
   "execution_count": 11,
   "metadata": {},
   "outputs": [
    {
     "data": {
      "text/plain": [
       "array([[5625,  243],\n",
       "       [1212,  420]])"
      ]
     },
     "execution_count": 11,
     "metadata": {},
     "output_type": "execute_result"
    }
   ],
   "source": [
    "from sklearn.metrics import confusion_matrix\n",
    "confusion_matrix(y_test, y_pred)"
   ]
  },
  {
   "cell_type": "markdown",
   "metadata": {},
   "source": [
    "The output of confusion_matrix is a two-by-two array, where the rows correspond to the true classes and the columns correspond to the predicted classes.\n",
    "\n",
    "The model using Stardard scaled data correctly predicts 5625 customers as non-default. The True Positives (Default customers) are much lower (420), confirming our statement above that the model does not perform well in predicting default customers.\n",
    "The model does not perform well regarding FN, which are the customers the model predicted would not default, while they did default."
   ]
  },
  {
   "cell_type": "markdown",
   "metadata": {},
   "source": [
    "####  MinMaxScaler"
   ]
  },
  {
   "cell_type": "markdown",
   "metadata": {},
   "source": [
    "The MinMaxScaler transform the features such that they all lie between 0 and 1."
   ]
  },
  {
   "cell_type": "markdown",
   "metadata": {},
   "source": [
    "For the MinMaxScaler, the fit method computes the minimum and the maximum value of each feature on the training set."
   ]
  },
  {
   "cell_type": "markdown",
   "metadata": {},
   "source": [
    "For Knn GridSearch_CV hyperparameter tuning, we set up the following parameters for an optimum number of neighbours searches: (1, 30, 4). This yielded the \n",
    "highest accuracy after repeated experiments of 0.15569. The number of neighbours the GridSearch produced is 21. \n",
    "CV = 5 was chosen as higher CV did not change search results (runtime optimization)."
   ]
  },
  {
   "cell_type": "code",
   "execution_count": 12,
   "metadata": {
    "scrolled": true
   },
   "outputs": [
    {
     "name": "stdout",
     "output_type": "stream",
     "text": [
      "{'clf__n_neighbors': 21}\n",
      "0.8092\n"
     ]
    }
   ],
   "source": [
    "#Pipeline for KNNClassifier using MinMax()\n",
    "\n",
    "knn_pipe_mm = Pipeline([\n",
    "    ('MinMaxSclaer', MinMaxScaler()),\n",
    "    ('clf', KNeighborsClassifier())])\n",
    "param_grid_mm = {'clf__n_neighbors': range(1, 30, 4)}\n",
    "grid_knn_mm = GridSearchCV(knn_pipe_mm, param_grid_mm, cv=5)\n",
    "\n",
    "grid_knn_mm.fit(X_train, y_train)\n",
    "print(grid_knn_mm.best_params_)\n",
    "print(grid_knn_mm.score(X_test, y_test))\n",
    "y_pred_knn_mm = grid_knn_mm.predict(X_test)\n"
   ]
  },
  {
   "cell_type": "code",
   "execution_count": 13,
   "metadata": {},
   "outputs": [
    {
     "data": {
      "text/plain": [
       "<matplotlib.legend.Legend at 0x7f86a87c6f10>"
      ]
     },
     "execution_count": 13,
     "metadata": {},
     "output_type": "execute_result"
    },
    {
     "data": {
      "image/png": "[encoded data removed]",
      "text/plain": [
       "<Figure size 432x288 with 1 Axes>"
      ]
     },
     "metadata": {
      "needs_background": "light"
     },
     "output_type": "display_data"
    }
   ],
   "source": [
    "#Visualising n change impact\n",
    "scores = pd.DataFrame(grid_knn_mm.cv_results_)\n",
    "scores\n",
    "scores.plot(x='param_clf__n_neighbors', y=['mean_test_score'], ax=plt.gca())\n",
    "plt.legend(loc=(1, 0))"
   ]
  },
  {
   "cell_type": "markdown",
   "metadata": {},
   "source": [
    "We noticed that for the scaled data with MinMaxScaler, the accuracy is 0.8092 and the selected number of neighbours is 21."
   ]
  },
  {
   "cell_type": "code",
   "execution_count": 14,
   "metadata": {},
   "outputs": [
    {
     "name": "stdout",
     "output_type": "stream",
     "text": [
      "              precision    recall  f1-score   support\n",
      "\n",
      "           0   0.826875  0.956374  0.886922      5868\n",
      "           1   0.640954  0.280025  0.389765      1632\n",
      "\n",
      "    accuracy                       0.809200      7500\n",
      "   macro avg   0.733914  0.618199  0.638344      7500\n",
      "weighted avg   0.786418  0.809200  0.778741      7500\n",
      "\n"
     ]
    }
   ],
   "source": [
    "print(classification_report(y_test, y_pred_knn_mm, labels=[0, 1], digits=6))"
   ]
  },
  {
   "cell_type": "markdown",
   "metadata": {},
   "source": [
    "\n",
    "Regarding precision, non default have a value of 0.826875 which can be considered relatively high. However, for the default customers, precision is lower with value 0.640954. The predictor predicts a larger number of points as belonging to class 0 and thereby achieves very high scores like precision for class 0 and very low scores for class 1.\n",
    "The precision is slightly higher than scaled data using StandardScaler, meaning MinMaxScaler has better performance when it comes to predict true positives.\n",
    "\n",
    "For recall (how many of the positive samples are captured by the positive predictions) and the f1-score, MinMaxScaler has a very similar performance to StandardScaler but again it performs better both for 0 and 1 classification. \n",
    "\n",
    "\n",
    "The accuracy of 0.8092 can be considered relatively high.\n",
    "Compared to StandardScaler, the value is one more time higher, indicating better performance of KNN when scaling the data using MinMax.\n",
    "\n"
   ]
  },
  {
   "cell_type": "code",
   "execution_count": 15,
   "metadata": {},
   "outputs": [
    {
     "data": {
      "text/plain": [
       "array([[5612,  256],\n",
       "       [1175,  457]])"
      ]
     },
     "execution_count": 15,
     "metadata": {},
     "output_type": "execute_result"
    }
   ],
   "source": [
    "confusion_matrix(y_test, y_pred_knn_mm)"
   ]
  },
  {
   "cell_type": "markdown",
   "metadata": {},
   "source": [
    "\n",
    "The model using Stardard scaled data correctly predicts 5612 customers as non-default. The True Positives (Default customers) are much lower (457), confirming our statement above that the model does not perform well in predicting default customers.\n",
    "The TP + TN are higher for MinMax rather than StandardScaler. "
   ]
  },
  {
   "cell_type": "markdown",
   "metadata": {},
   "source": [
    "### Unscaled data comparison"
   ]
  },
  {
   "cell_type": "code",
   "execution_count": 16,
   "metadata": {},
   "outputs": [
    {
     "name": "stdout",
     "output_type": "stream",
     "text": [
      "{'n_neighbors': 29}\n",
      "0.7814666666666666\n"
     ]
    }
   ],
   "source": [
    "#Apply KnnClassifier without scaled data\n",
    "param_grid_knn_us_n = {'n_neighbors':  np.arange(1, 30, 4)}\n",
    "grid_knn_us_n = GridSearchCV(KNeighborsClassifier(), param_grid=param_grid_knn_us_n, cv=5)\n",
    "grid_knn_us_n.fit(X_train, np.ravel(y_train,order='C'))\n",
    "print(grid_knn_us_n.best_params_)\n",
    "print(grid_knn_us_n.score(X_test, y_test))\n"
   ]
  },
  {
   "cell_type": "code",
   "execution_count": 17,
   "metadata": {},
   "outputs": [
    {
     "data": {
      "text/plain": [
       "<matplotlib.legend.Legend at 0x7f86a9218b50>"
      ]
     },
     "execution_count": 17,
     "metadata": {},
     "output_type": "execute_result"
    },
    {
     "data": {
      "image/png": "[encoded data removed]",
      "text/plain": [
       "<Figure size 432x288 with 1 Axes>"
      ]
     },
     "metadata": {
      "needs_background": "light"
     },
     "output_type": "display_data"
    }
   ],
   "source": [
    "#Visualising n change impact\n",
    "scores = pd.DataFrame(grid_knn_us_n.cv_results_)\n",
    "scores\n",
    "scores.plot(x='param_n_neighbors', y=['mean_test_score'], ax=plt.gca())\n",
    "plt.legend(loc=(1, 0))"
   ]
  },
  {
   "cell_type": "code",
   "execution_count": 18,
   "metadata": {},
   "outputs": [
    {
     "name": "stdout",
     "output_type": "stream",
     "text": [
      "              precision    recall  f1-score   support\n",
      "\n",
      "           0   0.794786  0.971541  0.874319      5868\n",
      "           1   0.489297  0.098039  0.163349      1632\n",
      "\n",
      "    accuracy                       0.781467      7500\n",
      "   macro avg   0.642041  0.534790  0.518834      7500\n",
      "weighted avg   0.728312  0.781467  0.719612      7500\n",
      "\n"
     ]
    }
   ],
   "source": [
    "y_pred_us_n = grid_knn_us_n.predict(X_test)\n",
    "\n",
    "print(classification_report(y_test, y_pred_us_n, labels=[0, 1], digits=6))"
   ]
  },
  {
   "cell_type": "markdown",
   "metadata": {},
   "source": [
    "The accuracy for unscaled data is the lowest among the 3 different analysis. Same can be said regardin precision and the f1-score."
   ]
  },
  {
   "cell_type": "code",
   "execution_count": 19,
   "metadata": {},
   "outputs": [
    {
     "data": {
      "text/plain": [
       "array([[5701,  167],\n",
       "       [1472,  160]])"
      ]
     },
     "execution_count": 19,
     "metadata": {},
     "output_type": "execute_result"
    }
   ],
   "source": [
    "confusion_matrix(y_test, y_pred_us_n)"
   ]
  },
  {
   "cell_type": "markdown",
   "metadata": {},
   "source": [
    "From the confusion matrix, we can see that the uscaled data do a very good job for calculating True Positives (highest among all).\n",
    "However, the performance significantly drops for True Negatives (default values).\n",
    "The TP + TN is lower than MinMax and StandardScaler, suggesting that we should scale our data before processing with the analysis."
   ]
  },
  {
   "cell_type": "markdown",
   "metadata": {},
   "source": [
    "In summary, using scaled data resulted in a higher accuracy compared to using non-scaled data for KNN. This was also true for precision and for f1-scores.  MinMaxScaler perfomed better among the scaling methods, surpassing StandardScaler for the metrices analyzed.\n",
    "We can conclude that scaling features result in a better predicting model. "
   ]
  },
  {
   "cell_type": "markdown",
   "metadata": {},
   "source": [
    "### LogisticRegression\n"
   ]
  },
  {
   "cell_type": "markdown",
   "metadata": {},
   "source": [
    "Logistic Regression is a common linear classification algorithm. By default it applies L2 regularization, which tries to reduce the chance of model overfitting. For Logistic Regression the trade-off parameter that determines the strength of regularization is the C parameter. Higher values of C correspond to less regularization, and viceversa."
   ]
  },
  {
   "cell_type": "markdown",
   "metadata": {},
   "source": [
    "#### StandardScaler"
   ]
  },
  {
   "cell_type": "markdown",
   "metadata": {},
   "source": [
    "We istantiate the Pipeline class directly by passing a list of of tuples, where the tuple is the name of the scaler and the estimator.\n",
    "\n",
    "We then try to find the optimal C value for which we will have the optimal level of regularization. We perform GridSearchCV using the Pipeline. Using pipelines make sure that there is no information leaking. To iterate over sufficient number of parameters, while controlling for runtime the parameters 1,2,6 were chosen. CV = 5 was chosen as higher CV did not change search results (runtime optimization). The model is fit on the training data only. After this, some print statements allow us to see the optimal C as well as performance measures that will be analysed below. "
   ]
  },
  {
   "cell_type": "code",
   "execution_count": 20,
   "metadata": {},
   "outputs": [
    {
     "name": "stdout",
     "output_type": "stream",
     "text": [
      "{'clf__C': 1.0}\n",
      "0.8164\n",
      "              precision    recall  f1-score   support\n",
      "\n",
      "           0   0.821383  0.978016  0.892882      5868\n",
      "           1   0.748538  0.235294  0.358042      1632\n",
      "\n",
      "    accuracy                       0.816400      7500\n",
      "   macro avg   0.784960  0.606655  0.625462      7500\n",
      "weighted avg   0.805532  0.816400  0.776501      7500\n",
      "\n"
     ]
    },
    {
     "data": {
      "text/plain": [
       "array([[5739,  129],\n",
       "       [1248,  384]])"
      ]
     },
     "execution_count": 20,
     "metadata": {},
     "output_type": "execute_result"
    }
   ],
   "source": [
    "logreg_pipe_ss = Pipeline([\n",
    "    ('StandardScaler', StandardScaler()),\n",
    "    ('clf', LogisticRegression())])\n",
    "\n",
    "param_grid_logreg_ss = {'clf__C': np.linspace(1, 2, 6)}\n",
    "grid_logreg_ss = GridSearchCV(logreg_pipe_ss, param_grid_logreg_ss, cv=5)\n",
    "\n",
    "grid_logreg_ss.fit(X_train, y_train)\n",
    "print(grid_logreg_ss.best_params_)\n",
    "print(grid_logreg_ss.score(X_test, y_test))\n",
    "y_pred_logreg_ss = grid_logreg_ss.predict(X_test)\n",
    "\n",
    "print(classification_report(y_test, y_pred_logreg_ss, labels=[0, 1], digits=6))\n",
    "confusion_matrix(y_test, y_pred_logreg_ss)"
   ]
  },
  {
   "cell_type": "code",
   "execution_count": 21,
   "metadata": {},
   "outputs": [
    {
     "data": {
      "text/plain": [
       "<matplotlib.legend.Legend at 0x7f86a91e9d50>"
      ]
     },
     "execution_count": 21,
     "metadata": {},
     "output_type": "execute_result"
    },
    {
     "data": {
      "image/png": "[encoded data removed]",
      "text/plain": [
       "<Figure size 432x288 with 1 Axes>"
      ]
     },
     "metadata": {
      "needs_background": "light"
     },
     "output_type": "display_data"
    }
   ],
   "source": [
    "#Visualising C change impact\n",
    "scores = pd.DataFrame(grid_logreg_ss.cv_results_)\n",
    "scores\n",
    "scores.plot(x='param_clf__C', y=['mean_test_score'], ax=plt.gca())\n",
    "plt.legend(loc=(1, 0))"
   ]
  },
  {
   "cell_type": "markdown",
   "metadata": {},
   "source": [
    "For StandardScaler, it can be observed that precision, recall and f1-score have high performance when it comes to predicting non-default customers - 0.\n",
    "\n",
    "When it comes to prediction of defualted customers - 1, the performance scores are not satisfactory. Pecision score is the highest, with a value of 0.748538 - this means that the most values that the model predicted as positive are actually positive. Or in other words there were significantly more true positive values than false positive. Recall, on the other hand, measures how many of the positive samples are captured by the positive predictions. Here, the score is 0.235294, which is very low indicating that there were much more values to be classified in this category than were actually classified. There is a trade-off between precision and recall values (few false positives but a lot of false negatives), f-score provides a harmonic mean of precision and recall. The score is 0.358042, that is again very low which supports the intuition that the model has very weak performance on this category.\n",
    "\n",
    "The accuracy value of 0.8164 looks relatively high meaning that Logistic Regression with StandardScaler performs well in predicting whether the customer defaulted or not. The reason for this is that the majority of data points in the data set are in the 0 - non-default category, so even though the model does a mediocre job at predicting default the overall performance which combines the performace for the prediction of both classes remains high.\n",
    "\n",
    "This can be seen in the macro and weighted avg scores - the first which returns the average without considering the proportion of each class in the dataset has lower scores than the weighted average which accounts for the proportion for each label in the dataset.\n",
    "\n",
    "Based on the confusion matrix we can say that the Logistic Regression with Stardard scaled data correctly predicts 5739 customers as non-default. The correct predictions for default customers are much lower, only 384, there are a lot of false negatives which confirms our intuition that the model doesn't do well in predicting default."
   ]
  },
  {
   "cell_type": "markdown",
   "metadata": {},
   "source": [
    "#### MinMaxScaler"
   ]
  },
  {
   "cell_type": "markdown",
   "metadata": {},
   "source": [
    "Again, a pipeline is instantieted directly by passing a list of of tuples. max_iter = 1000 is the maximum number of iterations taken for the solvers to converge, and 1000 was chosen for runtime and results optimization. The other relevant parameters are the same as for the StandardScaler."
   ]
  },
  {
   "cell_type": "code",
   "execution_count": 22,
   "metadata": {},
   "outputs": [
    {
     "name": "stdout",
     "output_type": "stream",
     "text": [
      "{'clf__C': 2.0}\n",
      "0.8148\n",
      "              precision    recall  f1-score   support\n",
      "\n",
      "           0   0.819427  0.979039  0.892150      5868\n",
      "           1   0.748466  0.224265  0.345120      1632\n",
      "\n",
      "    accuracy                       0.814800      7500\n",
      "   macro avg   0.783946  0.601652  0.618635      7500\n",
      "weighted avg   0.803986  0.814800  0.773116      7500\n",
      "\n"
     ]
    },
    {
     "data": {
      "text/plain": [
       "array([[5745,  123],\n",
       "       [1266,  366]])"
      ]
     },
     "execution_count": 22,
     "metadata": {},
     "output_type": "execute_result"
    }
   ],
   "source": [
    "logreg_pipe_mm = Pipeline([\n",
    "    ('MinMaxScaler', MinMaxScaler()),\n",
    "    ('clf', LogisticRegression(max_iter=1000))])\n",
    "\n",
    "param_grid_logreg_mm = {'clf__C': np.linspace(1, 2, 6)}\n",
    "grid_logreg_mm = GridSearchCV(logreg_pipe_mm, param_grid_logreg_mm, cv=5)\n",
    "\n",
    "grid_logreg_mm.fit(X_train, y_train)\n",
    "print(grid_logreg_mm.best_params_)\n",
    "print(grid_logreg_mm.score(X_test, y_test))\n",
    "y_pred_logreg_mm = grid_logreg_mm.predict(X_test)\n",
    "\n",
    "print(classification_report(y_test, y_pred_logreg_mm, labels=[0, 1], digits=6))\n",
    "confusion_matrix(y_test, y_pred_logreg_mm)"
   ]
  },
  {
   "cell_type": "code",
   "execution_count": 23,
   "metadata": {},
   "outputs": [
    {
     "data": {
      "text/plain": [
       "<matplotlib.legend.Legend at 0x7f86a9451c10>"
      ]
     },
     "execution_count": 23,
     "metadata": {},
     "output_type": "execute_result"
    },
    {
     "data": {
      "image/png": "[encoded data removed]",
      "text/plain": [
       "<Figure size 432x288 with 1 Axes>"
      ]
     },
     "metadata": {
      "needs_background": "light"
     },
     "output_type": "display_data"
    }
   ],
   "source": [
    "#Visualising C change impact\n",
    "scores = pd.DataFrame(grid_logreg_mm.cv_results_)\n",
    "scores\n",
    "scores.plot(x='param_clf__C', y=['mean_test_score'], ax=plt.gca())\n",
    "plt.legend(loc=(1, 0))"
   ]
  },
  {
   "cell_type": "markdown",
   "metadata": {},
   "source": [
    "For MinmaxScaler, it can again be observed that precision, recall and f1-score have high performance when it comes to predicting non-default customers - 0. With recall being almost a perfect score of 1 - almost all customers who were in the non-default category were assigned to that category.\n",
    "\n",
    "When it comes to prediction of defualted customers - 1 the performance scores are very low. Precision score is again the highest, with a value of 0.748466 - so most values that the model predicted as positive for this category are actually positive. Or in other words there were significantly more true positive values than false positive -more correct predicitions. Recall score is 0.224265, which is very low which suggests that there were much more values to be classified in this category than were actually classified. The f score is 0.345120, which very low which supports the intuition that the model has very weak performance on assigning customers to this default category.\n",
    "\n",
    "The accuracy value of 0.8148 is high meaning that the Logistic Regression with MinMaxScaler has an overall good performance in predicting whether the customer defaulted or not. This score is marginally lower than we saw with the StandardScaler for this model. \n",
    "\n",
    "The differences between macro and weighted avg scores show us the performance variation which occurs if we consider the proportion of each class in the dataset. As we can see, due to the imbalance in the data the model has better scores if we take into account the proportions of the datapoints in each class. \n",
    "\n",
    "Based on the confusion matrix we can say that the Logistic Regression with MinMax scaled data correctly predicts 5745 customers as non-default slightly more than Standard Scaler (5739). The correct predictions for default customers is only 366, that is 18 fewer than in the StandardScaler. Once again there are a lot of false negatives which confirms our intuition that the model doesn't do well in predicting default."
   ]
  },
  {
   "cell_type": "markdown",
   "metadata": {},
   "source": [
    "### Unscaled data comparison"
   ]
  },
  {
   "cell_type": "code",
   "execution_count": 24,
   "metadata": {},
   "outputs": [
    {
     "name": "stdout",
     "output_type": "stream",
     "text": [
      "{'C': 1.0}\n",
      "0.7825333333333333\n"
     ]
    }
   ],
   "source": [
    "#Apply logreg without scaled data\n",
    "\n",
    "param_grid_logreg_us = {'C': np.linspace(1, 2, 6)}\n",
    "grid_logreg_us = GridSearchCV(LogisticRegression(max_iter=1000), param_grid_logreg_us, cv=5)\n",
    "\n",
    "grid_logreg_us.fit(X_train,  np.ravel(y_train,order='C'))\n",
    "print(grid_logreg_us.best_params_)\n",
    "print(grid_logreg_us.score(X_test, y_test))"
   ]
  },
  {
   "cell_type": "code",
   "execution_count": 25,
   "metadata": {},
   "outputs": [
    {
     "name": "stdout",
     "output_type": "stream",
     "text": [
      "              precision    recall  f1-score   support\n",
      "\n",
      "           0   0.782504  1.000000  0.877983      5868\n",
      "           1   1.000000  0.000613  0.001225      1632\n",
      "\n",
      "    accuracy                       0.782533      7500\n",
      "   macro avg   0.891252  0.500306  0.439604      7500\n",
      "weighted avg   0.829831  0.782533  0.687200      7500\n",
      "\n"
     ]
    },
    {
     "data": {
      "text/plain": [
       "array([[5868,    0],\n",
       "       [1631,    1]])"
      ]
     },
     "execution_count": 25,
     "metadata": {},
     "output_type": "execute_result"
    }
   ],
   "source": [
    "\n",
    "y_pred_logreg_us = grid_logreg_us.predict(X_test)\n",
    "\n",
    "print(classification_report(y_test, y_pred_logreg_us, labels=[0, 1], digits=6))\n",
    "confusion_matrix(y_test, y_pred_logreg_us)"
   ]
  },
  {
   "cell_type": "code",
   "execution_count": 26,
   "metadata": {},
   "outputs": [
    {
     "data": {
      "text/plain": [
       "<matplotlib.legend.Legend at 0x7f86aa5314d0>"
      ]
     },
     "execution_count": 26,
     "metadata": {},
     "output_type": "execute_result"
    },
    {
     "data": {
      "image/png": "[encoded data removed]",
      "text/plain": [
       "<Figure size 432x288 with 1 Axes>"
      ]
     },
     "metadata": {
      "needs_background": "light"
     },
     "output_type": "display_data"
    }
   ],
   "source": [
    "#Visualising C change impact\n",
    "scores = pd.DataFrame(grid_logreg_us.cv_results_)\n",
    "scores\n",
    "scores.plot(x='param_C', y=['mean_test_score'], ax=plt.gca())\n",
    "plt.legend(loc=(1, 0))"
   ]
  },
  {
   "cell_type": "markdown",
   "metadata": {},
   "source": [
    "For both scaling models, the value of C is quite low (1.0),(2.0). Low C mean higher regularization, which means we are dealing with a simpler model, reducing the risk of overfitting as we limit the influence of individual points. Regarding the perfomance of LogReg, StandardScaler performs best, followed by MinMaxScaler and finally non-scaled data.\n",
    "The effect of scaling the data is quite significant on the performance of the model.\n"
   ]
  },
  {
   "cell_type": "markdown",
   "metadata": {},
   "source": [
    "## LinearSVC"
   ]
  },
  {
   "cell_type": "markdown",
   "metadata": {},
   "source": [
    "The goal of a Linear SVC (support vector classifier) is to separate classes using a linear hyperplane with the largest amount of margin. The hyper plane chosen has maximum margin (segregation) from the either nearest data points (support vectors). "
   ]
  },
  {
   "cell_type": "code",
   "execution_count": 29,
   "metadata": {},
   "outputs": [
    {
     "name": "stdout",
     "output_type": "stream",
     "text": [
      "{'clf__C': 1.0}\n",
      "0.8057333333333333\n",
      "              precision    recall  f1-score   support\n",
      "\n",
      "           0   0.808246  0.985515  0.888121      5868\n",
      "           1   0.753623  0.159314  0.263025      1632\n",
      "\n",
      "    accuracy                       0.805733      7500\n",
      "   macro avg   0.780935  0.572414  0.575573      7500\n",
      "weighted avg   0.796360  0.805733  0.752100      7500\n",
      "\n"
     ]
    },
    {
     "data": {
      "text/plain": [
       "array([[5783,   85],\n",
       "       [1372,  260]])"
      ]
     },
     "execution_count": 29,
     "metadata": {},
     "output_type": "execute_result"
    }
   ],
   "source": [
    "#Pipeline for LinearSVC using StandardScaler() dual = False is used to prevent convergence error\n",
    "\n",
    "svc_pipe_ss = Pipeline([\n",
    "    ('StandardScaler', StandardScaler()),\n",
    "    ('clf', LinearSVC(max_iter=1000, dual = False))]) \n",
    "\n",
    "param_grid_svc_ss = {'clf__C': np.linspace(1, 2, 6)}\n",
    "grid_svc_ss = GridSearchCV(svc_pipe_ss, param_grid_svc_ss, cv=5)\n",
    "\n",
    "grid_svc_ss.fit(X_train, y_train)\n",
    "print(grid_svc_ss.best_params_)\n",
    "print(grid_svc_ss.score(X_test, y_test))\n",
    "y_pred_svc_ss = grid_svc_ss.predict(X_test)\n",
    "\n",
    "print(classification_report(y_test, y_pred_svc_ss, labels=[0, 1], digits=6))\n",
    "confusion_matrix(y_test, y_pred_svc_ss)"
   ]
  },
  {
   "cell_type": "code",
   "execution_count": 30,
   "metadata": {},
   "outputs": [
    {
     "data": {
      "text/plain": [
       "<matplotlib.legend.Legend at 0x7f869009e8d0>"
      ]
     },
     "execution_count": 30,
     "metadata": {},
     "output_type": "execute_result"
    },
    {
     "data": {
      "image/png": "[encoded data removed]",
      "text/plain": [
       "<Figure size 432x288 with 1 Axes>"
      ]
     },
     "metadata": {
      "needs_background": "light"
     },
     "output_type": "display_data"
    }
   ],
   "source": [
    "#Visualising C change impact\n",
    "scores = pd.DataFrame(grid_svc_ss.cv_results_)\n",
    "scores\n",
    "scores.plot(x='param_clf__C', y=['mean_test_score'], ax=plt.gca())\n",
    "plt.legend(loc=(1, 0))"
   ]
  },
  {
   "cell_type": "markdown",
   "metadata": {},
   "source": [
    "For StandardScaler, it can be observed that precision, recall and f1-score have high performance when it comes to predicting non-default customers - 0. \n",
    "When it comes to prediction of defualted customers - 1 the performance scores are not satisfactory. Pecision score has a value of 0.753623 - this means that the most values that the model predicted as positive are actually positive. Or in other words there were significantly more true positive values than false positive. Recall, on the other hand, measures how many of the positive samples are captured by the positive predictions. Here, the score is very low for category 1 which indicates that there were much more values to be classified in this category than were actually classified. There is a trade-off between precision and recall values (few false positives but a lot of false negatives), f-score provides a harmonic mean of precision and recall. The score is very low which supports the intuition that the model has very weak performance on this category.\n",
    "\n",
    "The accuracy value of 0.805733 looks relatively high meaning that the LinearSVC with StandardScaler performs well in predicting whether the customer defaulted or not. The reason for this is that the majority of data points in the data set are in the 0 - non-default category, so even though the model does a mediocre job at predicting default the overall performance which combines the performace for the prediction of both classes remains high.\n",
    "\n",
    "This can be seen in the macro and weighted avg scores - the first which returns the average without considering the proportion of each class in the dataset has lower scores than the weighted average which accounts for the proportion for each label in the dataset.\n",
    "\n",
    "Based on the confusion matrix we can say that the Linear SVC with Stardard scaled data correctly predicts 5783 customers as non-default. The correct predictions for default customers are much lower only 260, there are a lot of false negatives which confirms our intuition that the model doesn't do well in predicting default.\n"
   ]
  },
  {
   "cell_type": "code",
   "execution_count": 31,
   "metadata": {},
   "outputs": [
    {
     "name": "stdout",
     "output_type": "stream",
     "text": [
      "{'clf__C': 2.0}\n",
      "0.8057333333333333\n",
      "              precision    recall  f1-score   support\n",
      "\n",
      "           0   0.808246  0.985515  0.888121      5868\n",
      "           1   0.753623  0.159314  0.263025      1632\n",
      "\n",
      "    accuracy                       0.805733      7500\n",
      "   macro avg   0.780935  0.572414  0.575573      7500\n",
      "weighted avg   0.796360  0.805733  0.752100      7500\n",
      "\n"
     ]
    },
    {
     "data": {
      "text/plain": [
       "array([[5783,   85],\n",
       "       [1372,  260]])"
      ]
     },
     "execution_count": 31,
     "metadata": {},
     "output_type": "execute_result"
    }
   ],
   "source": [
    "#Pipeline for LinearSVC using MinMaxScaler()\n",
    "\n",
    "svc_pipe_mm = Pipeline([\n",
    "    ('MinMaxScaler', MinMaxScaler()),\n",
    "    ('clf', LinearSVC(max_iter=1000, dual=False))])\n",
    "\n",
    "param_grid_svc_mm = {'clf__C': np.linspace(1, 2, 6)}\n",
    "grid_svc_mm = GridSearchCV(svc_pipe_mm, param_grid_svc_mm, cv=5)\n",
    "\n",
    "grid_svc_mm.fit(X_train, y_train)\n",
    "print(grid_svc_mm.best_params_)\n",
    "print(grid_svc_mm.score(X_test, y_test))\n",
    "y_pred_svc_mm = grid_svc_mm.predict(X_test)\n",
    "\n",
    "print(classification_report(y_test, y_pred_svc_mm, labels=[0, 1], digits=6))\n",
    "confusion_matrix(y_test, y_pred_svc_mm)"
   ]
  },
  {
   "cell_type": "code",
   "execution_count": 32,
   "metadata": {},
   "outputs": [
    {
     "data": {
      "text/plain": [
       "<matplotlib.legend.Legend at 0x7f868f5bc450>"
      ]
     },
     "execution_count": 32,
     "metadata": {},
     "output_type": "execute_result"
    },
    {
     "data": {
      "image/png": "[encoded data removed]",
      "text/plain": [
       "<Figure size 432x288 with 1 Axes>"
      ]
     },
     "metadata": {
      "needs_background": "light"
     },
     "output_type": "display_data"
    }
   ],
   "source": [
    "#Visualising C change impact\n",
    "scores = pd.DataFrame(grid_svc_mm.cv_results_)\n",
    "scores\n",
    "scores.plot(x='param_clf__C', y=['mean_test_score'], ax=plt.gca())\n",
    "plt.legend(loc=(1, 0))"
   ]
  },
  {
   "cell_type": "markdown",
   "metadata": {},
   "source": [
    "For MinmaxScaler, it can again be observed that precision, recall and f1-score have high performance when it comes to predicting non-default customers - 0. With recall being almost a perfect score of 1 - almost all customers who were in the non-default category were assigned to that category.\n",
    "\n",
    "When it comes to prediction of defualted customers - 1 the performance scores are very low. Precision score has again a value of 0.753663 - so most values that the model predicted as positive for this category are actually positive. Or in other words there were significantly more true positive values than false positive -more correct predicitions. Recall score for category 1 is very low which suggests that there were much more values to be classified in this category than were actually classified. The f score is very low which supports the intuition that the model has very weak performance on assigning customers to this default category.\n",
    "\n",
    "The accuracy value of 0.805733 is high meaning that the LinearSVC with MinMaxScaler has an overall good performance in predicting whether the customer defaulted or not. This score is equivalent to the score than we saw with the StandardScaler for this model. \n",
    "\n",
    "The differences between macro and weighted avg scores show us the performance variation which occurs if we consider the proportion of each class in the dataset. As we can see, due to the imbalance in the data the model has better scores if we take into account the proportions of the datapoints in each class. \n",
    "\n",
    "Based on the confusion matrix we can say that the Linear SVC with MinMax scaled data correctly predicts 5783 customers as non-default. The correct predictions for default customers is only 260 same as in StandardScaler. Once again there are a lot of false negatives which confirms our intuition that the model doesn't do well in predicting default, possibly due to imbalance of data.."
   ]
  },
  {
   "cell_type": "code",
   "execution_count": 36,
   "metadata": {},
   "outputs": [
    {
     "name": "stdout",
     "output_type": "stream",
     "text": [
      "{'C': 1.6}\n",
      "0.7824\n"
     ]
    }
   ],
   "source": [
    "param_grid_svc_us = {'C': np.linspace(1, 2, 6)}\n",
    "grid_svc_us = GridSearchCV(LinearSVC(max_iter=1000, dual=False), param_grid_svc_us, cv=5)\n",
    "\n",
    "grid_svc_us.fit(X_train,  np.ravel(y_train,order='C'))\n",
    "print(grid_svc_us.best_params_)\n",
    "print(grid_svc_us.score(X_test, y_test))"
   ]
  },
  {
   "cell_type": "code",
   "execution_count": 37,
   "metadata": {},
   "outputs": [
    {
     "data": {
      "text/plain": [
       "<matplotlib.legend.Legend at 0x7f868f5a1250>"
      ]
     },
     "execution_count": 37,
     "metadata": {},
     "output_type": "execute_result"
    },
    {
     "data": {
      "image/png": "[encoded data removed]",
      "text/plain": [
       "<Figure size 432x288 with 1 Axes>"
      ]
     },
     "metadata": {
      "needs_background": "light"
     },
     "output_type": "display_data"
    }
   ],
   "source": [
    "scores = pd.DataFrame(grid_svc_us.cv_results_)\n",
    "scores\n",
    "scores.plot(x='param_C', y=['mean_test_score'], ax=plt.gca())\n",
    "plt.legend(loc=(1, 0))"
   ]
  },
  {
   "cell_type": "code",
   "execution_count": 38,
   "metadata": {},
   "outputs": [
    {
     "name": "stdout",
     "output_type": "stream",
     "text": [
      "              precision    recall  f1-score   support\n",
      "\n",
      "           0   0.782400  1.000000  0.877917      5868\n",
      "           1   0.000000  0.000000  0.000000      1632\n",
      "\n",
      "    accuracy                       0.782400      7500\n",
      "   macro avg   0.391200  0.500000  0.438959      7500\n",
      "weighted avg   0.612150  0.782400  0.686883      7500\n",
      "\n"
     ]
    },
    {
     "name": "stderr",
     "output_type": "stream",
     "text": [
      "/Users/Daniel/opt/anaconda3/lib/python3.7/site-packages/sklearn/metrics/_classification.py:1272: UndefinedMetricWarning: Precision and F-score are ill-defined and being set to 0.0 in labels with no predicted samples. Use `zero_division` parameter to control this behavior.\n",
      "  _warn_prf(average, modifier, msg_start, len(result))\n"
     ]
    },
    {
     "data": {
      "text/plain": [
       "array([[5868,    0],\n",
       "       [1632,    0]])"
      ]
     },
     "execution_count": 38,
     "metadata": {},
     "output_type": "execute_result"
    }
   ],
   "source": [
    "y_pred_svc_us = grid_svc_us.predict(X_test)\n",
    "\n",
    "print(classification_report(y_test, y_pred_svc_us, labels=[0, 1], digits=6))\n",
    "confusion_matrix(y_test, y_pred_svc_us)"
   ]
  },
  {
   "cell_type": "markdown",
   "metadata": {},
   "source": [
    "For Linear SVC without scaled data we can see that precision, recall and f1-score still have high performance when it comes to predicting non-default customers - 0, although recall is a bit higher than in the case of scaled data. \n",
    "\n",
    "When it comes to prediction of defualted customers - 1 the performance scores are extremely low, much lower than with scaled data. Both precision and recall for category 1 are equal to 0.00 indicating that unscaled model predicts all customers to the majority category of 0.\n",
    "\n",
    "The accuracy value of 0.782400 is nonetheless still relatively high but lower than in scaled cases, but this is due majority of group belonging to category 0. \n",
    "\n",
    "The macro and weighted avg scores show us the performance variation which occurs if we consider the proportion of each class in the dataset. On both levels the scores are lower than with the scaled data, but similarly to what was seen before the model has better scores if we take into account the proportions of the datapoints in each class.\n",
    "\n",
    "Based on the confusion matrix we can say that the Linear SVC with unscaled data correctly classifies 5868 customers as non-defaulting but this is due imbalanced daata."
   ]
  },
  {
   "cell_type": "markdown",
   "metadata": {},
   "source": [
    "\n",
    "The optimal value of C for all Linear SVC models was quite low at 2.0, which means higher regularization and that a higher margin hyperplane was chosen even if some of the data points were misclassified. Each data point had a lower impact on the final hyperplane. If the value of C was high then the model would fit a smaller margin hyperplane if that meant that more of the data points would be classified correctly.\n",
    "Overall, we can conclude that scaling the data helped improve the overall accuracy of the model, by improving the accuracy predictions for default customers."
   ]
  },
  {
   "cell_type": "markdown",
   "metadata": {},
   "source": [
    "# Final Summary\n",
    "\n",
    "Finally, we can say that in all classification models scaling improved accuracy levels. Out of all the models Logistic regression with Standard Scaler produced the highest accuracy of predictions with a score of 0.8164."
   ]
  },
  {
   "cell_type": "code",
   "execution_count": null,
   "metadata": {},
   "outputs": [],
   "source": []
  }
 ],
 "metadata": {
  "kernelspec": {
   "display_name": "Python 3",
   "language": "python",
   "name": "python3"
  },
  "language_info": {
   "codemirror_mode": {
    "name": "ipython",
    "version": 3
   },
   "file_extension": ".py",
   "mimetype": "text/x-python",
   "name": "python",
   "nbconvert_exporter": "python",
   "pygments_lexer": "ipython3",
   "version": "3.7.6"
  }
 },
 "nbformat": 4,
 "nbformat_minor": 4
}
